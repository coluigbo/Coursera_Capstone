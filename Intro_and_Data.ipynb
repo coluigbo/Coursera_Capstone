{
 "cells": [
  {
   "cell_type": "markdown",
   "metadata": {},
   "source": [
    "## Problem Statement: Neighbourhood Focused Grocery Store Merchandising Mix for Toronto, Ontario."
   ]
  },
  {
   "cell_type": "markdown",
   "metadata": {},
   "source": [
    "##### Grocery retailers face increasing competition not only from other brick-and-mortar stores but also increasingly from on-line retailers. Specifically, retailers in highly cosmopolitanism urban centers like Toronto, Ontario face additional challenges trying to maximize revenue from an increasingly diverse demographic.\n",
    "\n",
    "##### While on-line retailers face very few limits in the variety of merchandise they can display, their brick and mortar counterparts are limited by the availability of valuable shelf space. The impact of rapidly rising real estate prices on the cost of setting up grocery stores makes the idea of putting a brand-new big-box grocery store in places like Toronto almost impossible. \n",
    "\n",
    "##### The implication of the foregoing is that while retail square footage is getting smaller, there is also a corresponding increase in the variety of merchandise required to maximize revenue from the changed demographic.\n",
    "\n",
    "##### Information from the 2016 census suggests that roughly half of Toronto residents were born outside of Canada. However, this distribution is quite clustered. People from similar ethnicities prefer to live together in similar neighborhoods. \n",
    "\n",
    "##### In this project, we analyze these neighborhoods and try to discover how we can use the concentration of restaurants, (some of which are ethnic focused) combined with demographic information from the 2016 census to discern the demographic mix of different neighborhoods and use this to build a better focused merchandising mix for different neighborhoods. While the census data shows how Torontonians identify themselves demographically, the restaurant information gives a more dynamic view of the influences and tastes that may shape their actual grocery shopping behavior.\n",
    "\n",
    "### Target Audience\n",
    "\n",
    "### Who would benefit from this project?\n",
    "\n",
    "1. ##### Existing national grocery chains that want to change their merchandising mix to better target customers in different   neighborhoods.\n",
    "\n",
    "2. ##### New grocery chains who are looking to design a merchandising strategy that reflects the differing neighborhood \tdemographics in Toronto, Ontario.\n",
    "\n",
    "3. ##### Entrepreneurs looking at establishing ethnic focused grocery stores\n",
    "\n",
    "4. ##### Marketers who work for the grocery industry and will like to better target their direct marketing and other location based advertising to better reflect local requirements.\n",
    "\n"
   ]
  },
  {
   "cell_type": "markdown",
   "metadata": {},
   "source": [
    "## Data"
   ]
  },
  {
   "cell_type": "markdown",
   "metadata": {},
   "source": [
    "## Data\n",
    "\n",
    "We obtained a table of Toronto neighborhoods by webscraping data from Wikipedia [here](https://en.wikipedia.org/wiki/List_of_postal_codes_of_Canada:_M). We cleaned the scraped data to obtain the following Dataframe. \n",
    "\n",
    "![TO Neighborhoods](TO_Neighborhoods.png)\n",
    "\n",
    "We merged the resulting table with latitude and longitude information using geospatial data obtained from a dataset  (Geospatial_data.csv). We  then obtained the following Dataframe.\n",
    "\n",
    "![TO Neibhd Lat and Long](TO_NeLatLongs.png)\n",
    "\n",
    "Next, we scraped the **Demographics of Toronto** Wikipedia page [here](https://en.wikipedia.org/wiki/List_of_postal_codes_of_Canada:_M). After scraping the data we \n",
    "eliminated all the other tables obtained from the page and left only data showing demographic information for each of the federal electoral districts (ridings) in the City of Toronto. This shows the ethnic origin groups with 7% of more of population in each riding, (highest % for each ethnic group as well the most populous ethnic group in a riding). After cleaning the data we obtained the following Dataframe.\n",
    "\n",
    "![TO Riding Demographics](Riding_Demographics.png)\n",
    "\n",
    "While this Dataframe is based on ridings, our other Dataframes are based on Postcodes, Neighborhoods and Latitude, Longitude. We obtained a dataset from Geocodio.io  (geo_data_geocodio_fcb7866a8350d4ec45a3dd27f1805bdbcebff253.csv) which contains Postcode and geospatial data for each riding. We obtained a Dataframe from this file, shown below\n",
    "\n",
    "![TO Riding Cordinates](TO_ridingCord.png)\n",
    "\n",
    "We then flattened our original **Demographics of Toronto** Dataframe and then pivoted it to obtained a more suitable form isolating the demographic features of each Neighborhood. We then merge this Dataframe with our Geocodio Dataframe and our Neighborhoods Latitude and Longitude Dataframe to obtain the following Dataframe .\n",
    "\n",
    "![TO Neighborhood Demographics](TO_NeighDemographics.png)\n",
    "\n",
    "Using the the food category in the Foursquare API  (with categoryId =4d4b7105d754a06374d81259), we are able to query the co-ordinates obtained in the neighborhood Latitude and Longitude for all the food locations in all the neighborhoods. We parse the resulting JSON file and obtain a Dataframe showing restaurants in each neighborhood. We apply One Hot Encoding to obtain the occurrence of different categories of restaurant in each neighborhood. Next, we group the rows by neighborhood and by taking the mean of the frequency of occurrence of each category, we now get the following Dataframe\n",
    "\n",
    "![TO Group Food](TO_GroupFood.png)\n",
    "\n",
    "We then merge our Restaurant Dataframe with our Demographics dataframe to obtain a single Dataframe\n",
    "\n",
    "![TO Food and Demographics](TO_FoodDemo.png)\n",
    "\n",
    "To get a better idea of the nature of each neighborhood, we also prepared another DataFrame showing the top five most common Ethnicity as well as the top most common restaurant type in each neighborhood to give a more intuitive understanding of the characteristics of each neighborhood.\n",
    "\n",
    "![TO Top Food and Demographics](TO_CommonDemoFood.png)\n",
    "\n",
    "\n",
    "\n",
    "Methodology\n",
    "\n",
    "We will be using the K-means Clustering algorithm to segment Toronto neighbourhoods using demographics and the type of restaurants found in the neighbourhood. K-means clustering is one of the simplest unsupervised machine learning algorithms and is especially popular for data segmentation. \n",
    "\n",
    "This algorithm partitions the neighbourhoods into a certain number (k) of clusters. It achieves this by randomly initiating k points (called centroids) at random locations and slowly fit each data-point to the nearest centroid. Each data-point belongs to the cluster with the nearest mean, serving as a prototype of the cluster. This results in a partitioning of the data space into distinct cells. The K-Means algorithm minimizes intra-cluster variances (measured as squared Euclidean distances), while maximizing inter-cluster variance."
   ]
  },
  {
   "cell_type": "code",
   "execution_count": null,
   "metadata": {},
   "outputs": [],
   "source": []
  }
 ],
 "metadata": {
  "kernelspec": {
   "display_name": "Python",
   "language": "python",
   "name": "conda-env-python-py"
  },
  "language_info": {
   "codemirror_mode": {
    "name": "ipython",
    "version": 3
   },
   "file_extension": ".py",
   "mimetype": "text/x-python",
   "name": "python",
   "nbconvert_exporter": "python",
   "pygments_lexer": "ipython3",
   "version": "3.6.7"
  }
 },
 "nbformat": 4,
 "nbformat_minor": 4
}
